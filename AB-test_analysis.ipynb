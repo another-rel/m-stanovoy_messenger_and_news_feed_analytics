{
 "cells": [
  {
   "cell_type": "markdown",
   "id": "06fdd2e1-93a3-4c54-8af0-e75757ea116c",
   "metadata": {},
   "source": [
    "# А/B-тест на данных с '2024-05-31' по '2024-06-06'. Экспериментальные группы 1 и 2"
   ]
  },
  {
   "cell_type": "markdown",
   "id": "4dc417ef-0388-4af2-9c14-bc464edbd8e9",
   "metadata": {},
   "source": [
    "**В группе 2 был использован один из новых алгоритмов рекомендации постов, группа 1 использовалась в качестве контроля.**\n",
    "\n",
    "Основная гипотеза заключается в том, что новый алгоритм во 2-й группе приведет к увеличению CTR. \n",
    "\n",
    "Задача — проанализировать данные А/B-теста.\n",
    "\n",
    "Ключевая метрика - CTR (likes/views)"
   ]
  },
  {
   "cell_type": "markdown",
   "id": "89a11203-59fa-4267-b404-a3930bb575d8",
   "metadata": {},
   "source": [
    "## Подготовительный этап"
   ]
  },
  {
   "cell_type": "code",
   "execution_count": 3,
   "id": "e756dbf1-ffc8-4c5d-9bde-42692f79847a",
   "metadata": {},
   "outputs": [],
   "source": [
    "# Импортируем нужные библиотеки\n",
    "\n",
    "import pandahouse\n",
    "import pandas as pd\n",
    "import numpy as np\n",
    "import seaborn as sns\n",
    "import scipy.stats as stats"
   ]
  },
  {
   "cell_type": "code",
   "execution_count": 25,
   "id": "c7061761-4484-4d22-b2b2-713af2864c31",
   "metadata": {},
   "outputs": [],
   "source": [
    "# Настроим размер графиков Seaborn\n",
    "\n",
    "sns.set(rc={'figure.figsize':(11.7,8.27)})"
   ]
  },
  {
   "cell_type": "code",
   "execution_count": 26,
   "id": "57d46e7b-800f-4472-a139-e986d677bd2b",
   "metadata": {},
   "outputs": [],
   "source": [
    "# Устанавливаем параметры соединения с базой данных\n",
    "\n",
    "connection = {\n",
    "    'host': 'https://clickhouse.lab.karpov.courses',\n",
    "    'password': 'dpo_python_2020',\n",
    "    'user': 'student',\n",
    "    'database': 'simulator_20240620'\n",
    "}"
   ]
  },
  {
   "cell_type": "code",
   "execution_count": 27,
   "id": "6fd0156e-9f48-4773-b8da-00a7b74d82ca",
   "metadata": {},
   "outputs": [],
   "source": [
    "# Берем данные из базы по временному промежутку АB-теста (с 2024-05-31 по 2024-06-06)\n",
    "\n",
    "q = \"\"\"\n",
    "SELECT exp_group, \n",
    "    user_id,\n",
    "    sum(action = 'like') as likes,\n",
    "    sum(action = 'view') as views,\n",
    "    likes/views as ctr\n",
    "FROM {db}.feed_actions \n",
    "WHERE toDate(time) BETWEEN '2024-05-31' AND '2024-06-06'\n",
    "    and exp_group in (1,2)\n",
    "GROUP BY exp_group, user_id\n",
    "\"\"\"\n",
    "\n",
    "df = pandahouse.read_clickhouse(q, connection=connection)"
   ]
  },
  {
   "cell_type": "code",
   "execution_count": 28,
   "id": "b8a70ed3-6ef4-4498-a41b-ae5da0b093b6",
   "metadata": {},
   "outputs": [
    {
     "name": "stdout",
     "output_type": "stream",
     "text": [
      "   exp_group  user_id  likes  views       ctr\n",
      "0          1   109963      3     15  0.200000\n",
      "1          1    26117     32    141  0.226950\n",
      "2          1   138232     18     73  0.246575\n",
      "3          1    26295     39    141  0.276596\n",
      "4          1    18392      7     32  0.218750\n",
      "5          2   131473      9    108  0.083333\n",
      "6          2    23985      7     87  0.080460\n",
      "7          2    24523     11    101  0.108911\n",
      "8          2    32420     13     44  0.295455\n",
      "9          2    24239     40     90  0.444444\n"
     ]
    }
   ],
   "source": [
    "# Проверим корректность подгрузки данных\n",
    "\n",
    "print(df.head(10))"
   ]
  },
  {
   "cell_type": "code",
   "execution_count": 128,
   "id": "e1485515-48ab-4a46-b308-141ab027b5ce",
   "metadata": {},
   "outputs": [],
   "source": [
    "# exp_group = 1 - Все по-старому\n",
    "# exp_group = 2 - Рекомендации \"похожих на лайкнутые постов\""
   ]
  },
  {
   "cell_type": "code",
   "execution_count": 155,
   "id": "c19651a1-0ffd-4aee-9b6f-53dc6f59b91b",
   "metadata": {},
   "outputs": [
    {
     "data": {
      "text/html": [
       "<div>\n",
       "<style scoped>\n",
       "    .dataframe tbody tr th:only-of-type {\n",
       "        vertical-align: middle;\n",
       "    }\n",
       "\n",
       "    .dataframe tbody tr th {\n",
       "        vertical-align: top;\n",
       "    }\n",
       "\n",
       "    .dataframe thead th {\n",
       "        text-align: right;\n",
       "    }\n",
       "</style>\n",
       "<table border=\"1\" class=\"dataframe\">\n",
       "  <thead>\n",
       "    <tr style=\"text-align: right;\">\n",
       "      <th></th>\n",
       "      <th>exp_group</th>\n",
       "      <th>user_id</th>\n",
       "      <th>likes</th>\n",
       "      <th>views</th>\n",
       "      <th>ctr</th>\n",
       "    </tr>\n",
       "  </thead>\n",
       "  <tbody>\n",
       "    <tr>\n",
       "      <th>count</th>\n",
       "      <td>10020.0</td>\n",
       "      <td>10020.000000</td>\n",
       "      <td>10020.000000</td>\n",
       "      <td>10020.000000</td>\n",
       "      <td>10020.000000</td>\n",
       "    </tr>\n",
       "    <tr>\n",
       "      <th>mean</th>\n",
       "      <td>1.0</td>\n",
       "      <td>75766.859381</td>\n",
       "      <td>14.005888</td>\n",
       "      <td>66.820659</td>\n",
       "      <td>0.216774</td>\n",
       "    </tr>\n",
       "    <tr>\n",
       "      <th>std</th>\n",
       "      <td>0.0</td>\n",
       "      <td>53174.508357</td>\n",
       "      <td>9.853010</td>\n",
       "      <td>45.281800</td>\n",
       "      <td>0.082969</td>\n",
       "    </tr>\n",
       "    <tr>\n",
       "      <th>min</th>\n",
       "      <td>1.0</td>\n",
       "      <td>206.000000</td>\n",
       "      <td>0.000000</td>\n",
       "      <td>1.000000</td>\n",
       "      <td>0.000000</td>\n",
       "    </tr>\n",
       "    <tr>\n",
       "      <th>25%</th>\n",
       "      <td>1.0</td>\n",
       "      <td>22170.000000</td>\n",
       "      <td>7.000000</td>\n",
       "      <td>33.000000</td>\n",
       "      <td>0.163636</td>\n",
       "    </tr>\n",
       "    <tr>\n",
       "      <th>50%</th>\n",
       "      <td>1.0</td>\n",
       "      <td>109387.000000</td>\n",
       "      <td>12.000000</td>\n",
       "      <td>57.000000</td>\n",
       "      <td>0.205882</td>\n",
       "    </tr>\n",
       "    <tr>\n",
       "      <th>75%</th>\n",
       "      <td>1.0</td>\n",
       "      <td>126164.500000</td>\n",
       "      <td>19.000000</td>\n",
       "      <td>90.000000</td>\n",
       "      <td>0.257870</td>\n",
       "    </tr>\n",
       "    <tr>\n",
       "      <th>max</th>\n",
       "      <td>1.0</td>\n",
       "      <td>140740.000000</td>\n",
       "      <td>68.000000</td>\n",
       "      <td>326.000000</td>\n",
       "      <td>0.722222</td>\n",
       "    </tr>\n",
       "  </tbody>\n",
       "</table>\n",
       "</div>"
      ],
      "text/plain": [
       "       exp_group        user_id         likes         views           ctr\n",
       "count    10020.0   10020.000000  10020.000000  10020.000000  10020.000000\n",
       "mean         1.0   75766.859381     14.005888     66.820659      0.216774\n",
       "std          0.0   53174.508357      9.853010     45.281800      0.082969\n",
       "min          1.0     206.000000      0.000000      1.000000      0.000000\n",
       "25%          1.0   22170.000000      7.000000     33.000000      0.163636\n",
       "50%          1.0  109387.000000     12.000000     57.000000      0.205882\n",
       "75%          1.0  126164.500000     19.000000     90.000000      0.257870\n",
       "max          1.0  140740.000000     68.000000    326.000000      0.722222"
      ]
     },
     "execution_count": 155,
     "metadata": {},
     "output_type": "execute_result"
    }
   ],
   "source": [
    "# Посмотрим описательные статистики для контрольной группы\n",
    "\n",
    "df[df.exp_group == 1].describe()"
   ]
  },
  {
   "cell_type": "code",
   "execution_count": 156,
   "id": "d33edb37-bffe-46b2-a716-9c218db1a9cd",
   "metadata": {},
   "outputs": [
    {
     "data": {
      "text/html": [
       "<div>\n",
       "<style scoped>\n",
       "    .dataframe tbody tr th:only-of-type {\n",
       "        vertical-align: middle;\n",
       "    }\n",
       "\n",
       "    .dataframe tbody tr th {\n",
       "        vertical-align: top;\n",
       "    }\n",
       "\n",
       "    .dataframe thead th {\n",
       "        text-align: right;\n",
       "    }\n",
       "</style>\n",
       "<table border=\"1\" class=\"dataframe\">\n",
       "  <thead>\n",
       "    <tr style=\"text-align: right;\">\n",
       "      <th></th>\n",
       "      <th>exp_group</th>\n",
       "      <th>user_id</th>\n",
       "      <th>likes</th>\n",
       "      <th>views</th>\n",
       "      <th>ctr</th>\n",
       "    </tr>\n",
       "  </thead>\n",
       "  <tbody>\n",
       "    <tr>\n",
       "      <th>count</th>\n",
       "      <td>9877.0</td>\n",
       "      <td>9877.000000</td>\n",
       "      <td>9877.000000</td>\n",
       "      <td>9877.000000</td>\n",
       "      <td>9877.000000</td>\n",
       "    </tr>\n",
       "    <tr>\n",
       "      <th>mean</th>\n",
       "      <td>2.0</td>\n",
       "      <td>75255.752455</td>\n",
       "      <td>13.370052</td>\n",
       "      <td>66.766630</td>\n",
       "      <td>0.216102</td>\n",
       "    </tr>\n",
       "    <tr>\n",
       "      <th>std</th>\n",
       "      <td>0.0</td>\n",
       "      <td>53337.842945</td>\n",
       "      <td>11.822436</td>\n",
       "      <td>45.451031</td>\n",
       "      <td>0.142870</td>\n",
       "    </tr>\n",
       "    <tr>\n",
       "      <th>min</th>\n",
       "      <td>2.0</td>\n",
       "      <td>220.000000</td>\n",
       "      <td>0.000000</td>\n",
       "      <td>1.000000</td>\n",
       "      <td>0.000000</td>\n",
       "    </tr>\n",
       "    <tr>\n",
       "      <th>25%</th>\n",
       "      <td>2.0</td>\n",
       "      <td>21719.000000</td>\n",
       "      <td>5.000000</td>\n",
       "      <td>32.000000</td>\n",
       "      <td>0.096774</td>\n",
       "    </tr>\n",
       "    <tr>\n",
       "      <th>50%</th>\n",
       "      <td>2.0</td>\n",
       "      <td>109219.000000</td>\n",
       "      <td>10.000000</td>\n",
       "      <td>57.000000</td>\n",
       "      <td>0.153285</td>\n",
       "    </tr>\n",
       "    <tr>\n",
       "      <th>75%</th>\n",
       "      <td>2.0</td>\n",
       "      <td>126105.000000</td>\n",
       "      <td>18.000000</td>\n",
       "      <td>91.000000</td>\n",
       "      <td>0.323529</td>\n",
       "    </tr>\n",
       "    <tr>\n",
       "      <th>max</th>\n",
       "      <td>2.0</td>\n",
       "      <td>140059.000000</td>\n",
       "      <td>93.000000</td>\n",
       "      <td>341.000000</td>\n",
       "      <td>0.900000</td>\n",
       "    </tr>\n",
       "  </tbody>\n",
       "</table>\n",
       "</div>"
      ],
      "text/plain": [
       "       exp_group        user_id        likes        views          ctr\n",
       "count     9877.0    9877.000000  9877.000000  9877.000000  9877.000000\n",
       "mean         2.0   75255.752455    13.370052    66.766630     0.216102\n",
       "std          0.0   53337.842945    11.822436    45.451031     0.142870\n",
       "min          2.0     220.000000     0.000000     1.000000     0.000000\n",
       "25%          2.0   21719.000000     5.000000    32.000000     0.096774\n",
       "50%          2.0  109219.000000    10.000000    57.000000     0.153285\n",
       "75%          2.0  126105.000000    18.000000    91.000000     0.323529\n",
       "max          2.0  140059.000000    93.000000   341.000000     0.900000"
      ]
     },
     "execution_count": 156,
     "metadata": {},
     "output_type": "execute_result"
    }
   ],
   "source": [
    "# Посмотрим описательные статистики для тестовой группы\n",
    "\n",
    "df[df.exp_group == 2].describe()"
   ]
  },
  {
   "cell_type": "code",
   "execution_count": 119,
   "id": "221b8e0e-9dbf-4ac7-9217-e12dc8ec6419",
   "metadata": {},
   "outputs": [
    {
     "data": {
      "text/plain": [
       "<Axes: xlabel='ctr', ylabel='Count'>"
      ]
     },
     "execution_count": 119,
     "metadata": {},
     "output_type": "execute_result"
    },
    {
     "data": {
      "image/png": "[encoded data removed]",
      "text/plain": [
       "<Figure size 842.4x595.44 with 1 Axes>"
      ]
     },
     "metadata": {},
     "output_type": "display_data"
    }
   ],
   "source": [
    "# Визуализируем подгруженные данные\n",
    "\n",
    "sns.histplot(data=df, x='ctr', hue='exp_group', palette=['r', 'b'], alpha=0.5, kde=False)"
   ]
  },
  {
   "cell_type": "code",
   "execution_count": 163,
   "id": "af2240b1-b374-4ae1-9c60-18f9b305b15d",
   "metadata": {},
   "outputs": [],
   "source": [
    "# Попробуем взять из датасета также данные по срезам пользователей и рассмотреть есть ли какая-либо взаимосвязь между\n",
    "# доступными срезами и существующими модами в тестовой группе\n",
    "\n",
    "q_viz = \"\"\"\n",
    "SELECT exp_group, \n",
    "    user_id,\n",
    "    os,\n",
    "    source,\n",
    "    gender,\n",
    "    country,\n",
    "    sum(action = 'like') as likes,\n",
    "    sum(action = 'view') as views,\n",
    "    likes/views as ctr\n",
    "FROM {db}.feed_actions \n",
    "WHERE toDate(time) BETWEEN '2024-05-31' AND '2024-06-06'\n",
    "    and exp_group in (1,2)\n",
    "GROUP BY exp_group, user_id, os, source, gender, country\n",
    "\"\"\"\n",
    "\n",
    "df_viz = pandahouse.read_clickhouse(q_viz, connection=connection)"
   ]
  },
  {
   "cell_type": "code",
   "execution_count": 164,
   "id": "d8567ef7-b4e0-48c5-81b5-b2c745849d66",
   "metadata": {},
   "outputs": [
    {
     "data": {
      "text/plain": [
       "<Axes: xlabel='ctr', ylabel='Count'>"
      ]
     },
     "execution_count": 164,
     "metadata": {},
     "output_type": "execute_result"
    },
    {
     "data": {
      "image/png": "[encoded data removed]",
      "text/plain": [
       "<Figure size 842.4x595.44 with 1 Axes>"
      ]
     },
     "metadata": {},
     "output_type": "display_data"
    }
   ],
   "source": [
    "# Срез по операционной системе\n",
    "\n",
    "sns.histplot(df_viz[df_viz.exp_group==2], x='ctr', hue='os', alpha=0.5)"
   ]
  },
  {
   "cell_type": "code",
   "execution_count": 160,
   "id": "833bcddf-4b90-427f-9056-b56e08f12430",
   "metadata": {},
   "outputs": [
    {
     "data": {
      "text/plain": [
       "<Axes: xlabel='ctr', ylabel='Count'>"
      ]
     },
     "execution_count": 160,
     "metadata": {},
     "output_type": "execute_result"
    },
    {
     "data": {
      "image/png": "[encoded data removed]",
      "text/plain": [
       "<Figure size 842.4x595.44 with 1 Axes>"
      ]
     },
     "metadata": {},
     "output_type": "display_data"
    }
   ],
   "source": [
    "# Срез по каналу привлечения\n",
    "\n",
    "sns.histplot(df_viz[df_viz.exp_group==2], x='ctr', hue='source', alpha=0.5)"
   ]
  },
  {
   "cell_type": "code",
   "execution_count": 161,
   "id": "28b81daa-1173-4ef0-b160-11fe24caead3",
   "metadata": {},
   "outputs": [
    {
     "data": {
      "text/plain": [
       "<Axes: xlabel='ctr', ylabel='Count'>"
      ]
     },
     "execution_count": 161,
     "metadata": {},
     "output_type": "execute_result"
    },
    {
     "data": {
      "image/png": "[encoded data removed]",
      "text/plain": [
       "<Figure size 842.4x595.44 with 1 Axes>"
      ]
     },
     "metadata": {},
     "output_type": "display_data"
    }
   ],
   "source": [
    "# Срез по полу\n",
    "\n",
    "sns.histplot(df_viz[df_viz.exp_group==2], x='ctr', hue='gender', alpha=0.5)"
   ]
  },
  {
   "cell_type": "code",
   "execution_count": 162,
   "id": "0e4b013e-b302-4c52-bcaa-338b405b0d99",
   "metadata": {},
   "outputs": [
    {
     "data": {
      "text/plain": [
       "<Axes: xlabel='ctr', ylabel='Count'>"
      ]
     },
     "execution_count": 162,
     "metadata": {},
     "output_type": "execute_result"
    },
    {
     "data": {
      "image/png": "[encoded data removed]",
      "text/plain": [
       "<Figure size 842.4x595.44 with 1 Axes>"
      ]
     },
     "metadata": {},
     "output_type": "display_data"
    }
   ],
   "source": [
    "# Срез по странам\n",
    "\n",
    "sns.histplot(df_viz[df_viz.exp_group==2], x='ctr', hue='country', alpha=0.5)"
   ]
  },
  {
   "cell_type": "markdown",
   "id": "f4efaad0-245e-4c1e-9c92-cb0c2c762974",
   "metadata": {},
   "source": [
    "**Промежуточный вывод по этапу подготовки и визуализации исходных данных:**\n",
    "\n",
    "Подсчет среднего CTR по исследуемым экспериментальным группам показал уменьшение метрики в тестовой группе по сравнению с контрольной. Также можем наблюдать падение среднего кол-ва просмотров и лайков. В результате визуализации распределений CTR также видим, что распределение тестовой группы бимодальное, при этом большее количество наблюдений находится слева от CTR контрольной группы (т.е. меньше контрольной группы).\n",
    "\n",
    "Визуализация распределения по имеющимся срезам не показала связь между конкретным подтипом пользователя и одной из двух мод. Обе моды проявляются на всех пользователях вне зависимости от среза."
   ]
  },
  {
   "cell_type": "markdown",
   "id": "0e9e5657-cc48-422b-a111-87d339d3cf7c",
   "metadata": {
    "tags": []
   },
   "source": [
    "## Анализ экспериментальных групп\n",
    "\n",
    "Для проведения анализа A/B-теста воспользуемся следующими тестами:\n",
    "1. t-тест Стьюдента\n",
    "2. t-тест со сглаживанием по CTR\n",
    "3. Тест Манна-Уитни\n",
    "4. Пуассоновский бутстрап\n",
    "5. Бакетное преобразование (с t-тестом и тестом Манна-Уитни поверх него)"
   ]
  },
  {
   "cell_type": "markdown",
   "id": "3a1374dd-8a10-4d4e-a863-e2024ac68233",
   "metadata": {},
   "source": [
    "### 1. t-тест Стьюдента\n",
    "\n",
    "- Нулевая гипотеза - Средние CTR контрольной и тестовой группы не различаются.\n",
    "- Альтернативная гипотеза - Средние CTR контрольной и тестовой группы имеют статистически значимое различие."
   ]
  },
  {
   "cell_type": "code",
   "execution_count": 53,
   "id": "37086aad-7186-42d5-9e67-d0002ee7718c",
   "metadata": {},
   "outputs": [
    {
     "name": "stdout",
     "output_type": "stream",
     "text": [
      "Ttest_indResult(statistic=0.4051491913112757, pvalue=0.685373331140751)\n"
     ]
    }
   ],
   "source": [
    "# Запускаем t-тест\n",
    "\n",
    "print(stats.ttest_ind(df[df.exp_group == 1].ctr.values, df[df.exp_group == 2].ctr.values, equal_var=False))"
   ]
  },
  {
   "cell_type": "markdown",
   "id": "de546d87-a9c2-4303-abe1-91888576690b",
   "metadata": {},
   "source": [
    "**Промежуточный вывод по t-тесту:**\n",
    "\n",
    "T-тест не показал статистических значимых различий между экспериментальными группами. Принимается нулевая гипотеза. Однако стоит не забывать и о специфике распределения тестовой группы."
   ]
  },
  {
   "cell_type": "markdown",
   "id": "9b547d5d-5c9c-4201-9c93-26dd89456dad",
   "metadata": {},
   "source": [
    "### 2. t-тест Стьюдента со сглаживанием по CTR\n",
    "\n",
    "Нулевая и альтернативная гипотезы - аналогичны обычному t-тест. Различие заключается в применении в данном методе сглаживания Лапласса для избавления от зашумлений в CTR. Недостаток метода - отсутствие теоретических гарантий в том, что его направленность совпадает с направленностью общего количества кликов."
   ]
  },
  {
   "cell_type": "code",
   "execution_count": 55,
   "id": "9c7108f4-7c4f-4f28-b121-41a6b3752b51",
   "metadata": {},
   "outputs": [],
   "source": [
    "# Создаем функцию для расчета сглаженного CTR\n",
    "\n",
    "def get_smoothed_ctr(user_likes, user_views, global_ctr, alpha):\n",
    "    smoothed_ctr = (user_likes + alpha * global_ctr) / (user_views + alpha)\n",
    "    return smoothed_ctr"
   ]
  },
  {
   "cell_type": "code",
   "execution_count": 56,
   "id": "59b7b11a-257c-406d-be25-0f7414d276fa",
   "metadata": {},
   "outputs": [],
   "source": [
    "# Рассчитываем общий CTR для контрольной и тестовой групп\n",
    "\n",
    "global_ctr_1 = df[df.exp_group == 1].likes.sum()/df[df.exp_group == 1].views.sum()\n",
    "global_ctr_2 = df[df.exp_group == 2].likes.sum()/df[df.exp_group == 2].views.sum()"
   ]
  },
  {
   "cell_type": "code",
   "execution_count": 57,
   "id": "0eeea79c-5d97-4e47-aaa1-84cf8e3e554d",
   "metadata": {},
   "outputs": [],
   "source": [
    "# Создаем новый датасет для данных только контрольной группы\n",
    "\n",
    "group1 = df[df.exp_group == 1].copy()"
   ]
  },
  {
   "cell_type": "code",
   "execution_count": 58,
   "id": "f9a01bf9-94cc-4975-8dd0-a17efba23395",
   "metadata": {},
   "outputs": [],
   "source": [
    "# Добавляем в датасет контрольной группы колонку сглаженного CTR, рассчитываемую  по созданной ранее функции\n",
    "\n",
    "group1['smoothed_ctr'] = df.apply(\n",
    "    lambda x: get_smoothed_ctr(x['likes'], x['views'], global_ctr_1, 5), axis=1)"
   ]
  },
  {
   "cell_type": "code",
   "execution_count": 70,
   "id": "912a4d03-4385-40ea-a729-3ca3603855fd",
   "metadata": {},
   "outputs": [
    {
     "data": {
      "text/html": [
       "<div>\n",
       "<style scoped>\n",
       "    .dataframe tbody tr th:only-of-type {\n",
       "        vertical-align: middle;\n",
       "    }\n",
       "\n",
       "    .dataframe tbody tr th {\n",
       "        vertical-align: top;\n",
       "    }\n",
       "\n",
       "    .dataframe thead th {\n",
       "        text-align: right;\n",
       "    }\n",
       "</style>\n",
       "<table border=\"1\" class=\"dataframe\">\n",
       "  <thead>\n",
       "    <tr style=\"text-align: right;\">\n",
       "      <th></th>\n",
       "      <th>exp_group</th>\n",
       "      <th>user_id</th>\n",
       "      <th>likes</th>\n",
       "      <th>views</th>\n",
       "      <th>ctr</th>\n",
       "      <th>smoothed_ctr</th>\n",
       "    </tr>\n",
       "  </thead>\n",
       "  <tbody>\n",
       "    <tr>\n",
       "      <th>0</th>\n",
       "      <td>1</td>\n",
       "      <td>109963</td>\n",
       "      <td>3</td>\n",
       "      <td>15</td>\n",
       "      <td>0.200000</td>\n",
       "      <td>0.202401</td>\n",
       "    </tr>\n",
       "    <tr>\n",
       "      <th>1</th>\n",
       "      <td>1</td>\n",
       "      <td>26117</td>\n",
       "      <td>32</td>\n",
       "      <td>141</td>\n",
       "      <td>0.226950</td>\n",
       "      <td>0.226356</td>\n",
       "    </tr>\n",
       "    <tr>\n",
       "      <th>2</th>\n",
       "      <td>1</td>\n",
       "      <td>138232</td>\n",
       "      <td>18</td>\n",
       "      <td>73</td>\n",
       "      <td>0.246575</td>\n",
       "      <td>0.244205</td>\n",
       "    </tr>\n",
       "    <tr>\n",
       "      <th>3</th>\n",
       "      <td>1</td>\n",
       "      <td>26295</td>\n",
       "      <td>39</td>\n",
       "      <td>141</td>\n",
       "      <td>0.276596</td>\n",
       "      <td>0.274302</td>\n",
       "    </tr>\n",
       "    <tr>\n",
       "      <th>4</th>\n",
       "      <td>1</td>\n",
       "      <td>18392</td>\n",
       "      <td>7</td>\n",
       "      <td>32</td>\n",
       "      <td>0.218750</td>\n",
       "      <td>0.217514</td>\n",
       "    </tr>\n",
       "  </tbody>\n",
       "</table>\n",
       "</div>"
      ],
      "text/plain": [
       "   exp_group  user_id  likes  views       ctr  smoothed_ctr\n",
       "0          1   109963      3     15  0.200000      0.202401\n",
       "1          1    26117     32    141  0.226950      0.226356\n",
       "2          1   138232     18     73  0.246575      0.244205\n",
       "3          1    26295     39    141  0.276596      0.274302\n",
       "4          1    18392      7     32  0.218750      0.217514"
      ]
     },
     "execution_count": 70,
     "metadata": {},
     "output_type": "execute_result"
    }
   ],
   "source": [
    "# Убедимся в корректности осуществленных действий\n",
    "\n",
    "group1.head()"
   ]
  },
  {
   "cell_type": "code",
   "execution_count": 59,
   "id": "40e3753a-52ed-4235-9777-c65714e101ce",
   "metadata": {},
   "outputs": [
    {
     "data": {
      "text/plain": [
       "<Axes: xlabel='ctr', ylabel='Count'>"
      ]
     },
     "execution_count": 59,
     "metadata": {},
     "output_type": "execute_result"
    },
    {
     "data": {
      "image/png": "[encoded data removed]",
      "text/plain": [
       "<Figure size 842.4x595.44 with 1 Axes>"
      ]
     },
     "metadata": {},
     "output_type": "display_data"
    }
   ],
   "source": [
    "# Построим гистограммы для неизмененного и сглаженного CTR контрольной группы\n",
    "# Видим, что распределение сгладилось, зашумление стало меньше\n",
    "\n",
    "sns.histplot(group1.ctr, \n",
    "             kde = False, color='b', alpha=0.5)\n",
    "sns.histplot(group1.smoothed_ctr, \n",
    "             kde = False, color='r', alpha=0.5)"
   ]
  },
  {
   "cell_type": "code",
   "execution_count": 62,
   "id": "a9981ad9-b61e-401d-9081-c6601cb7d0c6",
   "metadata": {},
   "outputs": [],
   "source": [
    "# Создаем новый датасет только для тестовой группы\n",
    "\n",
    "group2 = df[df.exp_group == 2].copy()"
   ]
  },
  {
   "cell_type": "code",
   "execution_count": 63,
   "id": "0ed4e263-ce47-4a7d-bca7-b6d94bd1e1bb",
   "metadata": {},
   "outputs": [],
   "source": [
    "# Добавляем в датасет тестовой группы колонку сглаженного CTR, рассчитываемую  по созданной ранее функции\n",
    "\n",
    "group2['smoothed_ctr'] = df.apply(\n",
    "    lambda x: get_smoothed_ctr(x['likes'], x['views'], global_ctr_2, 5), axis=1)"
   ]
  },
  {
   "cell_type": "code",
   "execution_count": 69,
   "id": "a6b3fe86-66b5-486b-bd39-d6fe269dc92d",
   "metadata": {},
   "outputs": [
    {
     "data": {
      "text/html": [
       "<div>\n",
       "<style scoped>\n",
       "    .dataframe tbody tr th:only-of-type {\n",
       "        vertical-align: middle;\n",
       "    }\n",
       "\n",
       "    .dataframe tbody tr th {\n",
       "        vertical-align: top;\n",
       "    }\n",
       "\n",
       "    .dataframe thead th {\n",
       "        text-align: right;\n",
       "    }\n",
       "</style>\n",
       "<table border=\"1\" class=\"dataframe\">\n",
       "  <thead>\n",
       "    <tr style=\"text-align: right;\">\n",
       "      <th></th>\n",
       "      <th>exp_group</th>\n",
       "      <th>user_id</th>\n",
       "      <th>likes</th>\n",
       "      <th>views</th>\n",
       "      <th>ctr</th>\n",
       "      <th>smoothed_ctr</th>\n",
       "    </tr>\n",
       "  </thead>\n",
       "  <tbody>\n",
       "    <tr>\n",
       "      <th>5</th>\n",
       "      <td>2</td>\n",
       "      <td>131473</td>\n",
       "      <td>9</td>\n",
       "      <td>108</td>\n",
       "      <td>0.083333</td>\n",
       "      <td>0.088507</td>\n",
       "    </tr>\n",
       "    <tr>\n",
       "      <th>6</th>\n",
       "      <td>2</td>\n",
       "      <td>23985</td>\n",
       "      <td>7</td>\n",
       "      <td>87</td>\n",
       "      <td>0.080460</td>\n",
       "      <td>0.086970</td>\n",
       "    </tr>\n",
       "    <tr>\n",
       "      <th>7</th>\n",
       "      <td>2</td>\n",
       "      <td>24523</td>\n",
       "      <td>11</td>\n",
       "      <td>101</td>\n",
       "      <td>0.108911</td>\n",
       "      <td>0.113219</td>\n",
       "    </tr>\n",
       "    <tr>\n",
       "      <th>8</th>\n",
       "      <td>2</td>\n",
       "      <td>32420</td>\n",
       "      <td>13</td>\n",
       "      <td>44</td>\n",
       "      <td>0.295455</td>\n",
       "      <td>0.285740</td>\n",
       "    </tr>\n",
       "    <tr>\n",
       "      <th>9</th>\n",
       "      <td>2</td>\n",
       "      <td>24239</td>\n",
       "      <td>40</td>\n",
       "      <td>90</td>\n",
       "      <td>0.444444</td>\n",
       "      <td>0.431592</td>\n",
       "    </tr>\n",
       "  </tbody>\n",
       "</table>\n",
       "</div>"
      ],
      "text/plain": [
       "   exp_group  user_id  likes  views       ctr  smoothed_ctr\n",
       "5          2   131473      9    108  0.083333      0.088507\n",
       "6          2    23985      7     87  0.080460      0.086970\n",
       "7          2    24523     11    101  0.108911      0.113219\n",
       "8          2    32420     13     44  0.295455      0.285740\n",
       "9          2    24239     40     90  0.444444      0.431592"
      ]
     },
     "execution_count": 69,
     "metadata": {},
     "output_type": "execute_result"
    }
   ],
   "source": [
    "# Убедимся в корректности осуществленных действий\n",
    "\n",
    "group2.head()"
   ]
  },
  {
   "cell_type": "code",
   "execution_count": 64,
   "id": "804e0e10-d27a-4f17-ad73-c809abed1f05",
   "metadata": {},
   "outputs": [
    {
     "data": {
      "text/plain": [
       "<Axes: xlabel='ctr', ylabel='Count'>"
      ]
     },
     "execution_count": 64,
     "metadata": {},
     "output_type": "execute_result"
    },
    {
     "data": {
      "image/png": "[encoded data removed]",
      "text/plain": [
       "<Figure size 842.4x595.44 with 1 Axes>"
      ]
     },
     "metadata": {},
     "output_type": "display_data"
    }
   ],
   "source": [
    "# Построим гистограммы для неизмененного и сглаженного CTR контрольной группы\n",
    "# Момент сглаживания сомнителен\n",
    "\n",
    "sns.histplot(group2.ctr, \n",
    "             kde = False, color='b', alpha=0.5)\n",
    "sns.histplot(group2.smoothed_ctr, \n",
    "             kde = False, color='r', alpha=0.5)"
   ]
  },
  {
   "cell_type": "code",
   "execution_count": 66,
   "id": "720d068f-def2-4ede-be8b-55c1d2dd94ad",
   "metadata": {
    "tags": []
   },
   "outputs": [
    {
     "name": "stdout",
     "output_type": "stream",
     "text": [
      "Ttest_indResult(statistic=1.9460491517027683, pvalue=0.05166679015318526)\n"
     ]
    }
   ],
   "source": [
    "# Применим t-тест поверх сглаженного CTR\n",
    "\n",
    "print(stats.ttest_ind(group1['smoothed_ctr'].values, group2['smoothed_ctr'].values, equal_var=False))"
   ]
  },
  {
   "cell_type": "markdown",
   "id": "4efa4217-8da1-42ab-addf-22cba772a7c1",
   "metadata": {},
   "source": [
    "**Промежуточный вывод по t-тесту поверх сглаженного CTR:**\n",
    "\n",
    "T-тест поверх сглаженного CTR не показал статистических значимых различий между экспериментальными группами, однако в отличие от \"ванильного\" t-теста уже оказался гораздо ближе к статистически значимым различиям между двумя группами. Принимается нулевая гипотеза."
   ]
  },
  {
   "cell_type": "markdown",
   "id": "d5991fe3-86fd-46d1-a7eb-25f672e73841",
   "metadata": {},
   "source": [
    "### 3. Тест Манна-Уитни\n",
    "\n",
    "Нулевая гипотеза - Тестовая и контрольная группа не имеют различий.\n",
    "\n",
    "Альтернативная гипотеза - Тестовая и контрольная группа имеют статистически значимые различия. (Cуммы рангов двух групп отличаются в какую-то сторону.)"
   ]
  },
  {
   "cell_type": "code",
   "execution_count": 80,
   "id": "7880ce8b-8777-4311-8ad1-82821f6aa5c8",
   "metadata": {},
   "outputs": [
    {
     "name": "stdout",
     "output_type": "stream",
     "text": [
      "MannwhitneyuResult(statistic=55189913.0, pvalue=4.632205841806026e-45)\n"
     ]
    }
   ],
   "source": [
    "# Применяем тест Манна-Уитни к исходным данным CTR пользователей\n",
    "\n",
    "print(stats.mannwhitneyu(df[df.exp_group==1].ctr.values, df[df.exp_group==2].ctr.values, alternative='two-sided'))"
   ]
  },
  {
   "cell_type": "markdown",
   "id": "261a42fc-dcf9-40d4-ae77-567f0f3c8aab",
   "metadata": {},
   "source": [
    "**Промежуточный вывод по тесту Манна-Уитни:**\n",
    "\n",
    "Тест Манна-Уитни показал статистически значимое различие между экспериментальными группами. При этом, направление данных различий неизвестно. Нулевая гипотеза отклоняется, принимаем альтернативную гипотезу."
   ]
  },
  {
   "cell_type": "markdown",
   "id": "2b0ef63d-a6a4-4087-82ed-15bf747002fd",
   "metadata": {},
   "source": [
    "### 4. Пуассоновский бутстрап\n",
    "\n",
    "Смысл метода:\n",
    "- Устанавливаем, что имеющиеся выборки являются хорошей моделью генеральной совокупности.\n",
    "- Выбираем из них многократные подвыборки с повторением и считаем по каждой из них общий CTR.\n",
    "- Визуализируем распределения общих CTR для подвыборок из тестовой и контрольной групп для определения наличия и направления эффекта."
   ]
  },
  {
   "cell_type": "code",
   "execution_count": 81,
   "id": "91529b97-df07-41a9-a978-05abaaa571c4",
   "metadata": {},
   "outputs": [],
   "source": [
    "# Создаем функцию для генерации попаданий наблюдения в подвыборку с помощью распределения Пуассона и рассчитываем общий CTR \n",
    "\n",
    "def bootstrap(likes1, views1, likes2, views2, n_bootstrap=2000):\n",
    "\n",
    "    poisson_bootstraps1 = stats.poisson(1).rvs(\n",
    "        (n_bootstrap, len(likes1))).astype(np.int64)\n",
    "\n",
    "    poisson_bootstraps2 = stats.poisson(1).rvs(\n",
    "            (n_bootstrap, len(likes2))).astype(np.int64)\n",
    "    \n",
    "    globalCTR1 = (poisson_bootstraps1*likes1).sum(axis=1)/(poisson_bootstraps1*views1).sum(axis=1)\n",
    "    \n",
    "    globalCTR2 = (poisson_bootstraps2*likes2).sum(axis=1)/(poisson_bootstraps2*views2).sum(axis=1)\n",
    "\n",
    "    return globalCTR1, globalCTR2"
   ]
  },
  {
   "cell_type": "code",
   "execution_count": 85,
   "id": "ffc4fd9c-4abd-475b-9d39-0998afdf172c",
   "metadata": {},
   "outputs": [],
   "source": [
    "# Создаем массивы, хранящие кол-во лайков и просмотров по каждой из экспериментальных групп\n",
    "\n",
    "likes1 = df[df.exp_group == 1].likes.to_numpy()\n",
    "views1 = df[df.exp_group == 1].views.to_numpy()\n",
    "likes2 = df[df.exp_group == 2].likes.to_numpy()\n",
    "views2 = df[df.exp_group == 2].views.to_numpy()"
   ]
  },
  {
   "cell_type": "code",
   "execution_count": 86,
   "id": "76f9eca5-ddb9-4e4c-9025-2c40325d7651",
   "metadata": {},
   "outputs": [],
   "source": [
    "# Применяем функцию бутстрапа к массивам\n",
    "\n",
    "ctr1, ctr2 = bootstrap(likes1, views1, likes2, views2)"
   ]
  },
  {
   "cell_type": "code",
   "execution_count": 88,
   "id": "fea1a75e-ec7b-48b0-81ce-f0fa7b938b00",
   "metadata": {},
   "outputs": [
    {
     "data": {
      "text/plain": [
       "<Axes: ylabel='Count'>"
      ]
     },
     "execution_count": 88,
     "metadata": {},
     "output_type": "execute_result"
    },
    {
     "data": {
      "image/png": "[encoded data removed]",
      "text/plain": [
       "<Figure size 842.4x595.44 with 1 Axes>"
      ]
     },
     "metadata": {},
     "output_type": "display_data"
    }
   ],
   "source": [
    "# Визуализируем полученные распределения\n",
    "# Распределение контрольной группы соответствует синему цвету\n",
    "# Распредеение тестовой группы соответствует красному цвету\n",
    "\n",
    "sns.histplot(ctr1, color='b', alpha=0.5)\n",
    "sns.histplot(ctr2, color='r', alpha=0.5)"
   ]
  },
  {
   "cell_type": "code",
   "execution_count": 90,
   "id": "48346316-29c5-46d6-97f0-036d4e30183d",
   "metadata": {},
   "outputs": [
    {
     "data": {
      "text/plain": [
       "<Axes: ylabel='Count'>"
      ]
     },
     "execution_count": 90,
     "metadata": {},
     "output_type": "execute_result"
    },
    {
     "data": {
      "image/png": "[encoded data removed]",
      "text/plain": [
       "<Figure size 842.4x595.44 with 1 Axes>"
      ]
     },
     "metadata": {},
     "output_type": "display_data"
    }
   ],
   "source": [
    "# Визуализируем разницу между глобальными CTR\n",
    "\n",
    "sns.histplot(ctr2 - ctr1)"
   ]
  },
  {
   "cell_type": "markdown",
   "id": "d0dd8b4d-3d14-4968-b79e-5265a2421b2a",
   "metadata": {},
   "source": [
    "**Промежуточный вывод пуассоновскому бутстрапу:**\n",
    "\n",
    "В результате применения пуассоновского бутстрапа мы обнаружили различие в общих CTR подвыборок тестовой и контрольной групп. Распределения CTR не имеют пересечений, все значения CTR контрольной группы оказались ниже значений CTR тестовой группы. Распределение разницы CTR между контрольной и тестовой группами находится полностью левее от нуля. Экспериментальные группы различны, CTR тестовой группы меньше CTR контрольной."
   ]
  },
  {
   "cell_type": "markdown",
   "id": "883fef8f-deec-4d02-a700-50831dac1c66",
   "metadata": {},
   "source": [
    "### 5. Бакетное преобразование\n",
    "\n",
    "Смысл метода:\n",
    "- Устанавливаем, что имеющиеся выборки являются хорошей моделью генеральной совокупности.\n",
    "- Выбираем из них многократные подвыборки с повторением и считаем по каждой из них общий CTR.\n",
    "- Визуализируем распределения общих CTR для подвыборок из тестовой и контрольной групп для определения наличия и направления эффекта."
   ]
  },
  {
   "cell_type": "code",
   "execution_count": 94,
   "id": "25a02e8a-e10d-4ae7-b547-342942515e85",
   "metadata": {},
   "outputs": [],
   "source": [
    "# Подгрузим данные из кликхауса с разбиением на бакеты и рассчитанными под них CTR\n",
    "\n",
    "q_bucket = \"\"\"\n",
    "\n",
    "SELECT exp_group, bucket,\n",
    "    sum(likes)/sum(views) as bucket_ctr\n",
    "FROM (SELECT exp_group, \n",
    "        xxHash64(user_id)%50 as bucket,\n",
    "        user_id,\n",
    "        sum(action = 'like') as likes,\n",
    "        sum(action = 'view') as views,\n",
    "        likes/views as ctr\n",
    "    FROM {db}.feed_actions \n",
    "    WHERE toDate(time) between '2024-05-31' and '2024-06-06'\n",
    "        and exp_group in (1,2)\n",
    "    GROUP BY exp_group, bucket, user_id)\n",
    "GROUP BY exp_group, bucket\n",
    "\"\"\"\n",
    "\n",
    "df_bucket = pandahouse.read_clickhouse(q2, connection=connection)"
   ]
  },
  {
   "cell_type": "code",
   "execution_count": 96,
   "id": "a3d1a5cd-2a84-443c-88a9-c7f0ff728851",
   "metadata": {},
   "outputs": [
    {
     "data": {
      "text/html": [
       "<div>\n",
       "<style scoped>\n",
       "    .dataframe tbody tr th:only-of-type {\n",
       "        vertical-align: middle;\n",
       "    }\n",
       "\n",
       "    .dataframe tbody tr th {\n",
       "        vertical-align: top;\n",
       "    }\n",
       "\n",
       "    .dataframe thead th {\n",
       "        text-align: right;\n",
       "    }\n",
       "</style>\n",
       "<table border=\"1\" class=\"dataframe\">\n",
       "  <thead>\n",
       "    <tr style=\"text-align: right;\">\n",
       "      <th></th>\n",
       "      <th>exp_group</th>\n",
       "      <th>bucket</th>\n",
       "      <th>bucket_ctr</th>\n",
       "    </tr>\n",
       "  </thead>\n",
       "  <tbody>\n",
       "    <tr>\n",
       "      <th>0</th>\n",
       "      <td>1</td>\n",
       "      <td>0</td>\n",
       "      <td>0.200592</td>\n",
       "    </tr>\n",
       "    <tr>\n",
       "      <th>1</th>\n",
       "      <td>2</td>\n",
       "      <td>0</td>\n",
       "      <td>0.196510</td>\n",
       "    </tr>\n",
       "    <tr>\n",
       "      <th>2</th>\n",
       "      <td>1</td>\n",
       "      <td>1</td>\n",
       "      <td>0.208799</td>\n",
       "    </tr>\n",
       "    <tr>\n",
       "      <th>3</th>\n",
       "      <td>2</td>\n",
       "      <td>1</td>\n",
       "      <td>0.210375</td>\n",
       "    </tr>\n",
       "    <tr>\n",
       "      <th>4</th>\n",
       "      <td>1</td>\n",
       "      <td>2</td>\n",
       "      <td>0.204632</td>\n",
       "    </tr>\n",
       "  </tbody>\n",
       "</table>\n",
       "</div>"
      ],
      "text/plain": [
       "   exp_group  bucket  bucket_ctr\n",
       "0          1       0    0.200592\n",
       "1          2       0    0.196510\n",
       "2          1       1    0.208799\n",
       "3          2       1    0.210375\n",
       "4          1       2    0.204632"
      ]
     },
     "execution_count": 96,
     "metadata": {},
     "output_type": "execute_result"
    }
   ],
   "source": [
    "# Убедимся в корректности подгруженных данных\n",
    "\n",
    "df_bucket.head()"
   ]
  },
  {
   "cell_type": "code",
   "execution_count": 101,
   "id": "c1ed97ea-40bf-4127-854c-c95dcff160cf",
   "metadata": {},
   "outputs": [
    {
     "data": {
      "text/plain": [
       "<Axes: xlabel='bucket_ctr', ylabel='Count'>"
      ]
     },
     "execution_count": 101,
     "metadata": {},
     "output_type": "execute_result"
    },
    {
     "data": {
      "image/png": "[encoded data removed]",
      "text/plain": [
       "<Figure size 842.4x595.44 with 1 Axes>"
      ]
     },
     "metadata": {},
     "output_type": "display_data"
    }
   ],
   "source": [
    "# Визуализируем распределения бакетов\n",
    "\n",
    "sns.histplot(df_bucket[df_bucket.exp_group==1].bucket_ctr, alpha=0.5)"
   ]
  },
  {
   "cell_type": "code",
   "execution_count": 102,
   "id": "1e89454b-6b19-4ea7-9af7-933c4c16e32f",
   "metadata": {},
   "outputs": [
    {
     "data": {
      "text/plain": [
       "<Axes: xlabel='bucket_ctr', ylabel='Count'>"
      ]
     },
     "execution_count": 102,
     "metadata": {},
     "output_type": "execute_result"
    },
    {
     "data": {
      "image/png": "[encoded data removed]",
      "text/plain": [
       "<Figure size 842.4x595.44 with 1 Axes>"
      ]
     },
     "metadata": {},
     "output_type": "display_data"
    }
   ],
   "source": [
    "sns.histplot(df_bucket[df_bucket.exp_group==2].bucket_ctr, alpha=0.5)"
   ]
  },
  {
   "cell_type": "code",
   "execution_count": 124,
   "id": "08d50c93-5904-40af-85a5-8f1d00d4f79c",
   "metadata": {},
   "outputs": [
    {
     "data": {
      "text/plain": [
       "0.20969361570538578"
      ]
     },
     "execution_count": 124,
     "metadata": {},
     "output_type": "execute_result"
    }
   ],
   "source": [
    "# Поcмотрим среднее по бакетам\n",
    "\n",
    "df_bucket[df_bucket.exp_group == 1].bucket_ctr.mean()"
   ]
  },
  {
   "cell_type": "code",
   "execution_count": 125,
   "id": "85884454-097a-448c-be8e-0923462c6dc8",
   "metadata": {},
   "outputs": [
    {
     "data": {
      "text/plain": [
       "0.2004567038618196"
      ]
     },
     "execution_count": 125,
     "metadata": {},
     "output_type": "execute_result"
    }
   ],
   "source": [
    "df_bucket[df_bucket.exp_group == 2].bucket_ctr.mean()"
   ]
  },
  {
   "cell_type": "code",
   "execution_count": 126,
   "id": "ebe3f3a7-1a31-45d0-b206-c987f6fb8822",
   "metadata": {},
   "outputs": [
    {
     "name": "stdout",
     "output_type": "stream",
     "text": [
      "MannwhitneyuResult(statistic=1997.0, pvalue=2.6576427804010095e-07)\n"
     ]
    }
   ],
   "source": [
    "# Применим тест Манна-Уитни поверх бакетного преобразования\n",
    "\n",
    "print(stats.mannwhitneyu(df_bucket[df_bucket.exp_group == 1].bucket_ctr.values,\n",
    "                         df_bucket[df_bucket.exp_group == 2].bucket_ctr.values, alternative='two-sided'))"
   ]
  },
  {
   "cell_type": "code",
   "execution_count": 127,
   "id": "b5c6f6fe-68b1-40b2-9a62-6d519e582432",
   "metadata": {},
   "outputs": [
    {
     "name": "stdout",
     "output_type": "stream",
     "text": [
      "Ttest_indResult(statistic=5.614819358149381, pvalue=4.592644937473873e-07)\n"
     ]
    }
   ],
   "source": [
    "# Применим t-тест Стьюдента поверх бакетного преобразования\n",
    "\n",
    "print(stats.ttest_ind(df_bucket[df_bucket.exp_group == 1].bucket_ctr.values,\n",
    "                         df_bucket[df_bucket.exp_group == 2].bucket_ctr.values, equal_var=False))"
   ]
  },
  {
   "cell_type": "markdown",
   "id": "1d1e5ed8-1eea-44db-9209-d4164a49aee0",
   "metadata": {},
   "source": [
    "**Промежуточный вывод по результатам тестов поверх бакетного преобразования:**\n",
    "\n",
    "В результате осуществления анализа поверх бакетного преобразования оба теста заметили наличие статистически значимого различия между экспериментальными группами. Средний CTR по бакетам при этом больше у контрольной группы."
   ]
  },
  {
   "cell_type": "markdown",
   "id": "7456d947-5f95-4531-a98e-5cda1abae782",
   "metadata": {
    "tags": []
   },
   "source": [
    "## Вывод по результатам проведения A/B-теста:"
   ]
  },
  {
   "cell_type": "markdown",
   "id": "d0c1602e-967e-4332-9e45-af6916bd788d",
   "metadata": {},
   "source": [
    "В процессе проведения анализа А/B-теста было обнаружено уменьшение среднего CTR в тестовой группе по сравнению с контрольной. Данные экспериментальных групп были далее проверены различными статистическими тестами на наличие статистической значимости в различиях между двумя группами.\n",
    "\n",
    "Результаты тестов представлены в таблице:\n",
    "\n",
    "| Тест               | Нулевая гипотеза |\n",
    "| ------------------ | -----------------|\n",
    "| t-тест на \"сырых\" данных | Подтверждена |\n",
    "| t-тест по сглаженным CTR | Подтверждена |\n",
    "| Тест Манна-Уитни | Отвергнута |\n",
    "| Пуассоновский бутстрап | Отвергнута |\n",
    "| t-тест поверх бакетного преобразования | Отвергнута |\n",
    "| Тест Манна-Уитни поверх бакетного преобразования | Отвергнута |\n",
    "\n",
    "Поведение t-теста в данном случае может быть обосновано спецификой распределения CTR в тестовой группе. Распределение имеет скошенный характер и бимодально. Полученное значение p_value t-теста поверх данных со сглаженным CTR при этом максимально приблизилось к установленному уровню значимости в 0.05.\n",
    "\n",
    "Важно также отметить, что результат анализа методом пуассоновского бутстрапа сходится с изначальным предположением о том, что ключевая метрика упала в тестовой группе по сравнению с контрольной.\n",
    "\n",
    "Таким образом, на основании проведенных тестов рекомендуется не вводить обновленный алгоритм показа постов похожих на ранее лайкнутые, т.к. результаты анализа показали либо отсутствие эффекта, либо его наличие в отрицательную сторону."
   ]
  },
  {
   "cell_type": "code",
   "execution_count": null,
   "id": "7ba99b1b-b3ff-44c3-8241-0add09ce77a5",
   "metadata": {},
   "outputs": [],
   "source": []
  }
 ],
 "metadata": {
  "kernelspec": {
   "display_name": "Python 3 (ipykernel)",
   "language": "python",
   "name": "python3"
  },
  "language_info": {
   "codemirror_mode": {
    "name": "ipython",
    "version": 3
   },
   "file_extension": ".py",
   "mimetype": "text/x-python",
   "name": "python",
   "nbconvert_exporter": "python",
   "pygments_lexer": "ipython3",
   "version": "3.8.10"
  }
 },
 "nbformat": 4,
 "nbformat_minor": 5
}
