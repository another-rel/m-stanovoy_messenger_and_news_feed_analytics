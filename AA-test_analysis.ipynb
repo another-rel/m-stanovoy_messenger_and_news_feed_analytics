{
 "cells": [
  {
   "cell_type": "markdown",
   "id": "06fdd2e1-93a3-4c54-8af0-e75757ea116c",
   "metadata": {},
   "source": [
    "# А/А-тест для данных с '2024-05-24' по '2024-05-30'"
   ]
  },
  {
   "cell_type": "markdown",
   "id": "4dc417ef-0388-4af2-9c14-bc464edbd8e9",
   "metadata": {},
   "source": [
    "Необходимо убедиться в корректности работы системы сплитования. Для этого будем действовать по следующему алгоритму:\n",
    "1. Многократно извлечем подвыборки из имеющихся данных с 2024-05-24 по 2024-05-30 для экспериментальных групп 2 и 3\n",
    "2. Проведем t-test для каждой пары подвыборок и запишем полученное p value\n",
    "3. Проверим в каком проценте случаев нам удалось отклонить нулевую гипотезу."
   ]
  },
  {
   "cell_type": "code",
   "execution_count": 26,
   "id": "e756dbf1-ffc8-4c5d-9bde-42692f79847a",
   "metadata": {},
   "outputs": [],
   "source": [
    "# Импортируем нужные библиотеки\n",
    "\n",
    "import pandahouse\n",
    "import pandas as pd\n",
    "import seaborn as sns\n",
    "import scipy.stats as stats"
   ]
  },
  {
   "cell_type": "code",
   "execution_count": 148,
   "id": "c7061761-4484-4d22-b2b2-713af2864c31",
   "metadata": {},
   "outputs": [],
   "source": [
    "# Сделаем графики в seaborn покрупнее\n",
    "\n",
    "sns.set(rc={'figure.figsize':(11.7,8.27)})"
   ]
  },
  {
   "cell_type": "code",
   "execution_count": 18,
   "id": "57d46e7b-800f-4472-a139-e986d677bd2b",
   "metadata": {},
   "outputs": [],
   "source": [
    "# Устанавливаем параметры соединения с базой данных\n",
    "\n",
    "connection = {\n",
    "    'host': 'https://clickhouse.lab.karpov.courses',\n",
    "    'password': 'dpo_python_2020',\n",
    "    'user': 'student',\n",
    "    'database': 'simulator_20240620'\n",
    "}"
   ]
  },
  {
   "cell_type": "code",
   "execution_count": 21,
   "id": "6fd0156e-9f48-4773-b8da-00a7b74d82ca",
   "metadata": {},
   "outputs": [],
   "source": [
    "# Берем данные из базы по временному промежутку АА-теста (с 2024-05-24 по 2024-05-30)\n",
    "\n",
    "q = \"\"\"\n",
    "SELECT exp_group, \n",
    "    user_id,\n",
    "    sum(action = 'like') as likes,\n",
    "    sum(action = 'view') as views,\n",
    "    likes/views as ctr\n",
    "FROM {db}.feed_actions \n",
    "WHERE toDate(time) BETWEEN '2024-05-24' AND '2024-05-30'\n",
    "    and exp_group in (2,3)\n",
    "GROUP BY exp_group, user_id\n",
    "\"\"\"\n",
    "\n",
    "df = pandahouse.read_clickhouse(q, connection=connection)"
   ]
  },
  {
   "cell_type": "code",
   "execution_count": 74,
   "id": "b8a70ed3-6ef4-4498-a41b-ae5da0b093b6",
   "metadata": {},
   "outputs": [
    {
     "name": "stdout",
     "output_type": "stream",
     "text": [
      "   exp_group  user_id  likes  views       ctr\n",
      "0          3   115383     38    248  0.153226\n",
      "1          3    10326     24    132  0.181818\n",
      "2          3   123580     25    122  0.204918\n",
      "3          2   131473     19     98  0.193878\n",
      "4          2    23985     12     44  0.272727\n",
      "5          2    24523      2     10  0.200000\n",
      "6          2    24239     10     41  0.243902\n",
      "7          3    19647      4     31  0.129032\n",
      "8          2   127588     14     87  0.160920\n",
      "9          2     6911     17    117  0.145299\n"
     ]
    }
   ],
   "source": [
    "# Проверим корректность подгрузки данных\n",
    "\n",
    "print(df.head(10))"
   ]
  },
  {
   "cell_type": "code",
   "execution_count": 149,
   "id": "03035f78-9807-4c60-a821-36f0c8e9ff81",
   "metadata": {},
   "outputs": [],
   "source": [
    "# Определим кол-во повторов теста и размер выборки\n",
    "\n",
    "number_of_tests = 10000\n",
    "sample_size = 500"
   ]
  },
  {
   "cell_type": "code",
   "execution_count": 155,
   "id": "37086aad-7186-42d5-9e67-d0002ee7718c",
   "metadata": {},
   "outputs": [],
   "source": [
    "# Многократно выберем подвыборки без повторений размером 500 пользователей и проведем для каждой из них t-test\n",
    "# Полученное p value добавим в список результатов\n",
    "\n",
    "# H0: Подвыборки из экспериментальных групп 2 и 3 статистически эквивалентны\n",
    "# H1: Подвыборки из экспериментальных групп 2 и 3 статистически значимо различаются\n",
    "\n",
    "ttest_p_values = []\n",
    "\n",
    "for _ in range(number_of_tests):\n",
    "    ttest_p_values.append(stats.ttest_ind(df[df.exp_group == 2].ctr.sample(n=sample_size).values,\n",
    "                                          df[df.exp_group == 3].ctr.sample(n=sample_size).values, equal_var=False).pvalue)"
   ]
  },
  {
   "cell_type": "code",
   "execution_count": 156,
   "id": "9c7108f4-7c4f-4f28-b121-41a6b3752b51",
   "metadata": {},
   "outputs": [
    {
     "data": {
      "text/plain": [
       "<Axes: ylabel='Count'>"
      ]
     },
     "execution_count": 156,
     "metadata": {},
     "output_type": "execute_result"
    },
    {
     "data": {
      "image/png": "[encoded data removed]",
      "text/plain": [
       "<Figure size 842.4x595.44 with 1 Axes>"
      ]
     },
     "metadata": {},
     "output_type": "display_data"
    }
   ],
   "source": [
    "# Визуализируем количественные данные p value для того, чтобы рассмотреть характер распределения\n",
    "\n",
    "sns.histplot(data = ttest_p_values, alpha=0.5, kde=False, bins=50)"
   ]
  },
  {
   "cell_type": "markdown",
   "id": "1d1e5ed8-1eea-44db-9209-d4164a49aee0",
   "metadata": {},
   "source": [
    "**Промежуточный вывод по визуализированным результатам многократных t-тестов:**\n",
    "\n",
    "Видим, что распределение графика +- равномерно и не имеет явного скоса в сторону p_value < 0.05. Это хороший знак, т.к. при выбранной нами точности в 0.05 и сфомулированной нулевой гипотезе о том, что подвыборки статистически эквивалентны, кол-во ложных срабатываний должно происходить не более, чем в 5% случаев.\n",
    "\n",
    "Чтобы окончательно убедиться в правильности работы системы сплитования посчитаем какой процент прокрашиваний на самом деле."
   ]
  },
  {
   "cell_type": "code",
   "execution_count": 157,
   "id": "085acebe-c053-450e-980e-03d9cbe19f5a",
   "metadata": {},
   "outputs": [],
   "source": [
    "# Переведем список с p-значениями в pandas.Series, т.к. это значительно облегчит процесс фильтрации данных\n",
    "\n",
    "ttest_p_values_series = pd.Series(data=ttest_p_values, copy=True)"
   ]
  },
  {
   "cell_type": "code",
   "execution_count": 158,
   "id": "0e3acf2a-1cb7-4cdf-b678-3ea674a84a72",
   "metadata": {},
   "outputs": [
    {
     "name": "stdout",
     "output_type": "stream",
     "text": [
      "Кол-во повторов AA-теста - 10000\n",
      "Размер используемых выборок - 500\n",
      "Процент прокрашиваний по t-критерию Стьюдента составил: 4.49%\n"
     ]
    }
   ],
   "source": [
    "# Рассчитаем процент прокрашиваний t-критерия Стьюдента на наших подвыборках из экспериментальных групп\n",
    "\n",
    "ttest_error_percentage = round((ttest_p_values_series.where(ttest_p_values_series <= 0.05).count() /\n",
    "                          ttest_p_values_series.count()) * 100, 2)\n",
    "print(f'Кол-во повторов AA-теста - {number_of_tests}')\n",
    "print(f'Размер используемых выборок - {sample_size}')\n",
    "print(f'Процент прокрашиваний по t-критерию Стьюдента составил: {ttest_error_percentage}%')"
   ]
  },
  {
   "cell_type": "markdown",
   "id": "7456d947-5f95-4531-a98e-5cda1abae782",
   "metadata": {},
   "source": [
    "### Вывод по результатам проведения A/A-теста:"
   ]
  },
  {
   "cell_type": "markdown",
   "id": "d0c1602e-967e-4332-9e45-af6916bd788d",
   "metadata": {},
   "source": [
    "В процессе проведения А/А-теста из данных об экспериментальных группах 2 и 3 были многократно извлечены подвыборки и проведен t-test. Для визуализации результатов проведенных тестов была построена гистограмма полученных p-значений. Также был рассчитан процент случаев, в которых тест показывал наличие статистически значимого различия между подвыборками.\n",
    "\n",
    "В результате проведенного А/А-теста, процент прокрашиваний по t-критерию Стьюдента составил 4.49%. Для выбранного уровня значимости в 0.05 и сформулированной нулевой гипотезе о статистической эквивалентности подвыборок это говорит о том, что система сплитования работает корректно, а наличие прокрашиваний может быть вызвано случайным ложным срабатыванием t-теста."
   ]
  }
 ],
 "metadata": {
  "kernelspec": {
   "display_name": "Python 3 (ipykernel)",
   "language": "python",
   "name": "python3"
  },
  "language_info": {
   "codemirror_mode": {
    "name": "ipython",
    "version": 3
   },
   "file_extension": ".py",
   "mimetype": "text/x-python",
   "name": "python",
   "nbconvert_exporter": "python",
   "pygments_lexer": "ipython3",
   "version": "3.8.10"
  }
 },
 "nbformat": 4,
 "nbformat_minor": 5
}
